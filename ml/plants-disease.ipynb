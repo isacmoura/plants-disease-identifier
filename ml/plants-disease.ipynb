{
 "cells": [
  {
   "cell_type": "code",
   "execution_count": 1,
   "metadata": {
    "_cell_guid": "b1076dfc-b9ad-4769-8c92-a6c4dae69d19",
    "_uuid": "8f2839f25d086af736a60e9eeb907d3b93b6e0e5"
   },
   "outputs": [
    {
     "name": "stderr",
     "output_type": "stream",
     "text": [
      "Using TensorFlow backend.\n"
     ]
    }
   ],
   "source": [
    "import numpy as np\n",
    "import pandas as pd\n",
    "from sklearn.preprocessing import LabelBinarizer, MultiLabelBinarizer\n",
    "from sklearn.model_selection import train_test_split\n",
    "from keras.models import Sequential\n",
    "from keras.layers.normalization import BatchNormalization\n",
    "from keras.layers.convolutional import Conv2D, MaxPooling2D\n",
    "from keras.layers.core import Activation, Flatten, Dropout, Dense\n",
    "from keras import backend as K\n",
    "from keras.preprocessing import image\n",
    "from keras.preprocessing.image import ImageDataGenerator, img_to_array\n",
    "from keras.optimizers import Adam\n",
    "import matplotlib.pyplot as plt\n",
    "import pickle\n",
    "import cv2\n",
    "import os"
   ]
  },
  {
   "cell_type": "code",
   "execution_count": 2,
   "metadata": {
    "_cell_guid": "79c7e3d0-c299-4dcb-8224-4455121ee9b0",
    "_uuid": "d629ff2d2480ee46fbb7e2d37f6b5fab8052498a"
   },
   "outputs": [],
   "source": [
    "# Definitions\n",
    "default_image_size = tuple((256, 256))\n",
    "data_dir = '../input/plantvillage'\n",
    "\n",
    "height = 256\n",
    "width = 256\n",
    "depth = 3\n",
    "\n",
    "lr = 1e-3\n",
    "num_epochs = 25\n",
    "batch_size = 32"
   ]
  },
  {
   "cell_type": "markdown",
   "metadata": {},
   "source": [
    "# Helper function\n",
    "\n",
    "Converts images to arrays"
   ]
  },
  {
   "cell_type": "code",
   "execution_count": 3,
   "metadata": {},
   "outputs": [],
   "source": [
    "def imageToArray(image_file):\n",
    "    image = cv2.imread(image_file)\n",
    "    \n",
    "    if image is not None:\n",
    "        image = cv2.resize(image, default_image_size)\n",
    "        return img_to_array(image)\n",
    "    else:\n",
    "        return None"
   ]
  },
  {
   "cell_type": "markdown",
   "metadata": {},
   "source": [
    "# Loading images from dataset"
   ]
  },
  {
   "cell_type": "code",
   "execution_count": 4,
   "metadata": {},
   "outputs": [
    {
     "name": "stdout",
     "output_type": "stream",
     "text": [
      "LOADING IMAGES ...\n",
      "PROCESSING: Tomato_Bacterial_spot ...\n",
      "PROCESSING: Pepper__bell___Bacterial_spot ...\n",
      "PROCESSING: Tomato_Early_blight ...\n",
      "PROCESSING: Tomato__Tomato_YellowLeaf__Curl_Virus ...\n",
      "PROCESSING: Potato___Early_blight ...\n",
      "PROCESSING: Tomato__Target_Spot ...\n",
      "PROCESSING: Pepper__bell___healthy ...\n",
      "PROCESSING: Tomato_Spider_mites_Two_spotted_spider_mite ...\n",
      "PROCESSING: Tomato_Late_blight ...\n",
      "PROCESSING: Tomato_Leaf_Mold ...\n",
      "PROCESSING: Tomato_Septoria_leaf_spot ...\n",
      "PROCESSING: Potato___healthy ...\n",
      "PROCESSING: Potato___Late_blight ...\n",
      "PROCESSING: Tomato__Tomato_mosaic_virus ...\n",
      "PROCESSING: Tomato_healthy ...\n",
      "[INFO] Image Loading finished\n"
     ]
    }
   ],
   "source": [
    "images_list, labels_list = [], []\n",
    "root_dir = os.listdir(data_dir)\n",
    "\n",
    "# Remove .DS_Store\n",
    "def removeDSStore(file, root):\n",
    "    if file == '.DS_Store':\n",
    "        root.remove(directory)\n",
    "        \n",
    "print(\"LOADING IMAGES ...\")\n",
    "for directory in root_dir:\n",
    "    removeDSStore(directory, root_dir)\n",
    "    \n",
    "for plant_dir in root_dir:\n",
    "    plants_disease_dirlist = os.listdir(f\"{data_dir}/{plant_dir}\")\n",
    "    \n",
    "    for disease_folder in plants_disease_dirlist:\n",
    "        removeDSStore(disease_folder, plants_disease_dirlist)\n",
    "    \n",
    "    for plant_disease_folder in plants_disease_dirlist:\n",
    "        print(f\"PROCESSING: {plant_disease_folder} ...\")\n",
    "        plants_disease_imglist = os.listdir(f\"{data_dir}/{plant_dir}/{plant_disease_folder}/\")\n",
    "        \n",
    "        for single_plant_disease_image in plants_disease_imglist:\n",
    "            removeDSStore(single_plant_disease_image, plants_disease_imglist)\n",
    "        \n",
    "        for image in plants_disease_imglist[:200]:\n",
    "            image_dir = f\"{data_dir}/{plant_dir}/{plant_disease_folder}/{image}\"\n",
    "            \n",
    "            if image_dir.endswith(\".jpg\") == True or image_dir.endswith(\".JPG\") == True:\n",
    "                images_list.append(imageToArray(image_dir))\n",
    "                labels_list.append(plant_disease_folder)\n",
    "            \n",
    "print(\"[INFO] Image Loading finished\")"
   ]
  },
  {
   "cell_type": "markdown",
   "metadata": {},
   "source": [
    "# Converting labels\n",
    "\n",
    "converte each image label to binary levels"
   ]
  },
  {
   "cell_type": "code",
   "execution_count": 5,
   "metadata": {},
   "outputs": [],
   "source": [
    "label_binarizer = LabelBinarizer()\n",
    "image_labels = label_binarizer.fit_transform(labels_list)\n",
    "pickle.dump(label_binarizer, open('label_transform.pk1', 'wb'))\n",
    "n_classes = len(label_binarizer.classes_)"
   ]
  },
  {
   "cell_type": "code",
   "execution_count": 6,
   "metadata": {},
   "outputs": [
    {
     "name": "stdout",
     "output_type": "stream",
     "text": [
      "['Pepper__bell___Bacterial_spot' 'Pepper__bell___healthy'\n",
      " 'Potato___Early_blight' 'Potato___Late_blight' 'Potato___healthy'\n",
      " 'Tomato_Bacterial_spot' 'Tomato_Early_blight' 'Tomato_Late_blight'\n",
      " 'Tomato_Leaf_Mold' 'Tomato_Septoria_leaf_spot'\n",
      " 'Tomato_Spider_mites_Two_spotted_spider_mite' 'Tomato__Target_Spot'\n",
      " 'Tomato__Tomato_YellowLeaf__Curl_Virus' 'Tomato__Tomato_mosaic_virus'\n",
      " 'Tomato_healthy']\n"
     ]
    }
   ],
   "source": [
    "# Visualize classes\n",
    "\n",
    "print(label_binarizer.classes_)"
   ]
  },
  {
   "cell_type": "markdown",
   "metadata": {},
   "source": [
    "# Preprocessing data"
   ]
  },
  {
   "cell_type": "code",
   "execution_count": 7,
   "metadata": {},
   "outputs": [],
   "source": [
    "np_image_list = np.array(images_list, dtype=np.float16) / 225.0"
   ]
  },
  {
   "cell_type": "markdown",
   "metadata": {},
   "source": [
    "Splitting the data into training and test.\n",
    "\n",
    "80% of the images are used for training and 20% for testing."
   ]
  },
  {
   "cell_type": "code",
   "execution_count": 8,
   "metadata": {},
   "outputs": [],
   "source": [
    "x_train, x_test, y_train, y_test = train_test_split(np_image_list, image_labels, test_size = 0.2, random_state = 42)"
   ]
  },
  {
   "cell_type": "markdown",
   "metadata": {},
   "source": [
    "Data augmentation"
   ]
  },
  {
   "cell_type": "code",
   "execution_count": 9,
   "metadata": {},
   "outputs": [],
   "source": [
    "resized_data = ImageDataGenerator(\n",
    "                rotation_range = 25,\n",
    "                width_shift_range = 0.1,\n",
    "                height_shift_range = 0.1,\n",
    "                shear_range = 0.2,\n",
    "                zoom_range = 0.2,\n",
    "                horizontal_flip = True,\n",
    "                fill_mode = \"nearest\"\n",
    ")"
   ]
  },
  {
   "cell_type": "code",
   "execution_count": 10,
   "metadata": {},
   "outputs": [
    {
     "name": "stdout",
     "output_type": "stream",
     "text": [
      "WARNING:tensorflow:From /opt/conda/lib/python3.6/site-packages/tensorflow/python/framework/op_def_library.py:263: colocate_with (from tensorflow.python.framework.ops) is deprecated and will be removed in a future version.\n",
      "Instructions for updating:\n",
      "Colocations handled automatically by placer.\n",
      "WARNING:tensorflow:From /opt/conda/lib/python3.6/site-packages/keras/backend/tensorflow_backend.py:3445: calling dropout (from tensorflow.python.ops.nn_ops) with keep_prob is deprecated and will be removed in a future version.\n",
      "Instructions for updating:\n",
      "Please use `rate` instead of `keep_prob`. Rate should be set to `rate = 1 - keep_prob`.\n"
     ]
    }
   ],
   "source": [
    "# Model\n",
    "model = Sequential()\n",
    "inputShape = (height, width, depth)\n",
    "dim = -1\n",
    "\n",
    "if K.image_data_format() == \"channel_first\":\n",
    "    inputShape = (depth, height, width)\n",
    "    dim = 1\n",
    "\n",
    "# Model implementation\n",
    "# Input Layer\n",
    "model.add(Conv2D(32, (3, 3), padding='same', input_shape=inputShape))\n",
    "model.add(Activation(\"relu\"))\n",
    "model.add(BatchNormalization(axis=dim))\n",
    "model.add(MaxPooling2D(pool_size=(3, 3)))\n",
    "model.add(Dropout(0.25))\n",
    "\n",
    "# Hidden Layers\n",
    "model.add(Conv2D(64, (3, 3), padding='same'))\n",
    "model.add(Activation(\"relu\"))\n",
    "model.add(BatchNormalization(axis=dim))\n",
    "model.add(Conv2D(64, (3, 3), padding='same'))\n",
    "model.add(Activation(\"relu\"))\n",
    "model.add(BatchNormalization(axis=dim))\n",
    "model.add(MaxPooling2D(pool_size=(2, 2)))\n",
    "model.add(Dropout(0.25))\n",
    "\n",
    "#Output Layer\n",
    "model.add(Conv2D(128, (3, 3), padding='same'))\n",
    "model.add(Activation(\"relu\"))\n",
    "model.add(BatchNormalization(axis=dim))\n",
    "model.add(MaxPooling2D(pool_size=(2, 2)))\n",
    "model.add(Dropout(0.25))\n",
    "model.add(Flatten())\n",
    "model.add(Dense(1024))\n",
    "model.add(Activation(\"relu\"))\n",
    "model.add(BatchNormalization())\n",
    "model.add(Dropout(0.5))\n",
    "model.add(Dense(n_classes))\n",
    "model.add(Activation(\"softmax\"))"
   ]
  },
  {
   "cell_type": "code",
   "execution_count": 11,
   "metadata": {},
   "outputs": [],
   "source": [
    "optim = Adam(lr=lr, decay=lr / num_epochs)\n",
    "model.compile(loss=\"binary_crossentropy\", optimizer=optim, metrics=[\"accuracy\"])\n",
    "\n",
    "def train(model_tr):\n",
    "    print(\"STARTING Training ...\")\n",
    "    \n",
    "    history = model_tr.fit_generator(\n",
    "        resized_data.flow(x_train, y_train, batch_size=batch_size),\n",
    "        validation_data = (x_test, y_test),\n",
    "        steps_per_epoch = len(x_train) // batch_size,\n",
    "        epochs = num_epochs, verbose=1)\n",
    "    \n",
    "    print(\"FINISHING Training...\")\n",
    "    return history\n",
    "    "
   ]
  },
  {
   "cell_type": "code",
   "execution_count": 12,
   "metadata": {},
   "outputs": [
    {
     "name": "stdout",
     "output_type": "stream",
     "text": [
      "STARTING Training ...\n",
      "WARNING:tensorflow:From /opt/conda/lib/python3.6/site-packages/tensorflow/python/ops/math_ops.py:3066: to_int32 (from tensorflow.python.ops.math_ops) is deprecated and will be removed in a future version.\n",
      "Instructions for updating:\n",
      "Use tf.cast instead.\n",
      "Epoch 1/25\n",
      "73/73 [==============================] - 34s 471ms/step - loss: 0.2094 - acc: 0.9341 - val_loss: 0.5437 - val_acc: 0.8946\n",
      "Epoch 2/25\n",
      "73/73 [==============================] - 29s 398ms/step - loss: 0.1398 - acc: 0.9509 - val_loss: 0.6545 - val_acc: 0.9033\n",
      "Epoch 3/25\n",
      "73/73 [==============================] - 29s 394ms/step - loss: 0.1239 - acc: 0.9549 - val_loss: 0.6952 - val_acc: 0.9051\n",
      "Epoch 4/25\n",
      "73/73 [==============================] - 29s 400ms/step - loss: 0.1023 - acc: 0.9625 - val_loss: 0.2731 - val_acc: 0.9345\n",
      "Epoch 5/25\n",
      "73/73 [==============================] - 29s 395ms/step - loss: 0.1004 - acc: 0.9629 - val_loss: 0.3078 - val_acc: 0.9250\n",
      "Epoch 6/25\n",
      "73/73 [==============================] - 29s 396ms/step - loss: 0.0927 - acc: 0.9649 - val_loss: 0.5083 - val_acc: 0.9110\n",
      "Epoch 7/25\n",
      "73/73 [==============================] - 29s 399ms/step - loss: 0.0978 - acc: 0.9644 - val_loss: 0.4083 - val_acc: 0.9223\n",
      "Epoch 8/25\n",
      "73/73 [==============================] - 29s 400ms/step - loss: 0.0968 - acc: 0.9650 - val_loss: 0.1450 - val_acc: 0.9553\n",
      "Epoch 9/25\n",
      "73/73 [==============================] - 29s 393ms/step - loss: 0.0858 - acc: 0.9685 - val_loss: 0.2419 - val_acc: 0.9345\n",
      "Epoch 10/25\n",
      "73/73 [==============================] - 29s 396ms/step - loss: 0.0825 - acc: 0.9693 - val_loss: 0.3068 - val_acc: 0.9258\n",
      "Epoch 11/25\n",
      "73/73 [==============================] - 29s 394ms/step - loss: 0.0977 - acc: 0.9653 - val_loss: 0.5110 - val_acc: 0.9038\n",
      "Epoch 12/25\n",
      "73/73 [==============================] - 29s 391ms/step - loss: 0.0857 - acc: 0.9676 - val_loss: 0.4787 - val_acc: 0.9204\n",
      "Epoch 13/25\n",
      "73/73 [==============================] - 29s 395ms/step - loss: 0.0772 - acc: 0.9715 - val_loss: 0.1391 - val_acc: 0.9616\n",
      "Epoch 14/25\n",
      "73/73 [==============================] - 29s 393ms/step - loss: 0.0655 - acc: 0.9755 - val_loss: 0.1593 - val_acc: 0.9568\n",
      "Epoch 15/25\n",
      "73/73 [==============================] - 29s 392ms/step - loss: 0.0650 - acc: 0.9764 - val_loss: 0.2903 - val_acc: 0.9374\n",
      "Epoch 16/25\n",
      "73/73 [==============================] - 29s 393ms/step - loss: 0.0549 - acc: 0.9793 - val_loss: 0.2340 - val_acc: 0.9462\n",
      "Epoch 17/25\n",
      "73/73 [==============================] - 29s 394ms/step - loss: 0.0513 - acc: 0.9802 - val_loss: 0.1514 - val_acc: 0.9624\n",
      "Epoch 18/25\n",
      "73/73 [==============================] - 28s 390ms/step - loss: 0.0530 - acc: 0.9803 - val_loss: 0.3431 - val_acc: 0.9304\n",
      "Epoch 19/25\n",
      "73/73 [==============================] - 29s 397ms/step - loss: 0.0518 - acc: 0.9814 - val_loss: 0.1307 - val_acc: 0.9611\n",
      "Epoch 20/25\n",
      "73/73 [==============================] - 28s 389ms/step - loss: 0.0470 - acc: 0.9826 - val_loss: 0.1039 - val_acc: 0.9672\n",
      "Epoch 21/25\n",
      "73/73 [==============================] - 29s 394ms/step - loss: 0.0435 - acc: 0.9850 - val_loss: 0.1169 - val_acc: 0.9656\n",
      "Epoch 22/25\n",
      "73/73 [==============================] - 29s 392ms/step - loss: 0.0424 - acc: 0.9850 - val_loss: 0.1061 - val_acc: 0.9702\n",
      "Epoch 23/25\n",
      "73/73 [==============================] - 29s 391ms/step - loss: 0.0424 - acc: 0.9847 - val_loss: 0.3919 - val_acc: 0.9333\n",
      "Epoch 24/25\n",
      "73/73 [==============================] - 28s 389ms/step - loss: 0.0411 - acc: 0.9842 - val_loss: 0.1614 - val_acc: 0.9582\n",
      "Epoch 25/25\n",
      "73/73 [==============================] - 29s 391ms/step - loss: 0.0403 - acc: 0.9844 - val_loss: 0.2974 - val_acc: 0.9437\n",
      "FINISHING Training...\n"
     ]
    }
   ],
   "source": [
    "model_tr = train(model)"
   ]
  },
  {
   "cell_type": "markdown",
   "metadata": {},
   "source": [
    "# Model evaluation\n",
    "\n",
    "Let's plot our data to evaluate the model performance"
   ]
  },
  {
   "cell_type": "code",
   "execution_count": 13,
   "metadata": {},
   "outputs": [
    {
     "data": {
      "image/png": "[encoded data removed]",
      "text/plain": [
       "<Figure size 432x288 with 1 Axes>"
      ]
     },
     "metadata": {},
     "output_type": "display_data"
    },
    {
     "data": {
      "image/png": "[encoded data removed]",
      "text/plain": [
       "<Figure size 432x288 with 1 Axes>"
      ]
     },
     "metadata": {},
     "output_type": "display_data"
    }
   ],
   "source": [
    "acc = model_tr.history['acc']\n",
    "val_acc = model_tr.history['val_acc']\n",
    "loss = model_tr.history['loss']\n",
    "val_loss = model_tr.history['val_loss']\n",
    "epochs = range(1, len(acc) + 1)\n",
    "\n",
    "# Train and validation acc\n",
    "plt.plot(epochs, acc, 'b', label='Training accuracy')\n",
    "plt.plot(epochs, val_acc, 'r', label='Validation accuracy')\n",
    "plt.title('Training and Validation Accuracies')\n",
    "plt.legend()\n",
    "plt.figure()\n",
    "\n",
    "# Train and validation losses\n",
    "plt.plot(epochs, loss, 'b', label='Training loss')\n",
    "plt.plot(epochs, val_loss, 'r', label='Validation loss')\n",
    "plt.title('Training and Validation Losses')\n",
    "plt.legend()\n",
    "plt.show()"
   ]
  },
  {
   "cell_type": "markdown",
   "metadata": {},
   "source": [
    "Calculate the accuracy of the model using x_test and y_test."
   ]
  },
  {
   "cell_type": "code",
   "execution_count": 14,
   "metadata": {},
   "outputs": [
    {
     "name": "stdout",
     "output_type": "stream",
     "text": [
      "591/591 [==============================] - 1s 2ms/step\n",
      "Test accuracy: 94.37112280761731\n"
     ]
    }
   ],
   "source": [
    "scores = model.evaluate(x_test, y_test)\n",
    "print(f\"Test accuracy: {scores[1] * 100}\")"
   ]
  },
  {
   "cell_type": "markdown",
   "metadata": {},
   "source": [
    "Finally, saves the model"
   ]
  },
  {
   "cell_type": "code",
   "execution_count": 15,
   "metadata": {},
   "outputs": [
    {
     "name": "stdout",
     "output_type": "stream",
     "text": [
      "Saving model ...\n"
     ]
    }
   ],
   "source": [
    "print('Saving model ...')\n",
    "pickle.dump(model, open('conv_model.pk1', 'wb'))"
   ]
  },
  {
   "cell_type": "code",
   "execution_count": 16,
   "metadata": {},
   "outputs": [
    {
     "data": {
      "text/plain": [
       "['__output__.json',\n",
       " 'label_transform.pk1',\n",
       " '__notebook__.ipynb',\n",
       " 'conv_model.pk1']"
      ]
     },
     "execution_count": 16,
     "metadata": {},
     "output_type": "execute_result"
    }
   ],
   "source": [
    "os.listdir('./')"
   ]
  }
 ],
 "metadata": {
  "kernelspec": {
   "display_name": "Python 3",
   "language": "python",
   "name": "python3"
  },
  "language_info": {
   "codemirror_mode": {
    "name": "ipython",
    "version": 3
   },
   "file_extension": ".py",
   "mimetype": "text/x-python",
   "name": "python",
   "nbconvert_exporter": "python",
   "pygments_lexer": "ipython3",
   "version": "3.6.4"
  }
 },
 "nbformat": 4,
 "nbformat_minor": 1
}
